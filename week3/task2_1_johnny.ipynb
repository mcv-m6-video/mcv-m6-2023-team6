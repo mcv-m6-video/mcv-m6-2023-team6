{
 "cells": [
  {
   "cell_type": "code",
   "execution_count": 1,
   "metadata": {},
   "outputs": [],
   "source": [
    "from utils.util import load_from_txt,discard_overlaps,iou, write_to_csv_file\n",
    "import cv2\n",
    "from collections import defaultdict\n",
    "import numpy as np\n",
    "import imageio\n",
    "import copy\n",
    "import os"
   ]
  },
  {
   "cell_type": "code",
   "execution_count": 2,
   "metadata": {},
   "outputs": [],
   "source": [
    "def frame_visualization(video_capture,predicted_boxes,frame_id,out_path,method):\n",
    "    video_capture.set(cv2.CAP_PROP_POS_FRAMES, frame_id - 1)\n",
    "    res, frame = video_capture.read()\n",
    "    # Draw the ground truth boxes\n",
    "    # Draw the predicted boxes\n",
    "    for box in predicted_boxes[frame_id]:\n",
    "        cv2.rectangle(frame, (int(box[1]), int(box[2])), (int(box[3]), int(box[4])), (0, 0, 255), 2)\n",
    "        cv2.putText(frame, f'id:{box[6]}',(int(box[1]), int(box[2])), cv2.FONT_HERSHEY_SIMPLEX, 0.8, (0, 0, 255),2)\n",
    "    # put text mIOU of frame\n",
    "    # put text number of frame\n",
    "    cv2.putText(frame, f\"Frame: {frame_id}\", (10, 60), cv2.FONT_HERSHEY_SIMPLEX, 1, (255, 255, 255), 2, cv2.LINE_AA)\n",
    "\n",
    "    cv2.imwrite(f'{out_path}/{method}_{frame_id}.png', frame)\n"
   ]
  },
  {
   "cell_type": "code",
   "execution_count": 3,
   "metadata": {
    "collapsed": false
   },
   "outputs": [],
   "source": [
    "current_path = os.getcwd()\n"
   ]
  },
  {
   "cell_type": "code",
   "execution_count": 4,
   "metadata": {},
   "outputs": [],
   "source": [
    "mask_rcnn = '../../dataset/AICity_data/train/S03/c010/det/det_mask_rcnn.txt'\n",
    "mask_rcnn = os.path.join(current_path,mask_rcnn)\n",
    "ssd512 =  '../../dataset/AICity_data/train/S03/c010/det/det_ssd512.txt'\n",
    "ssd512 = os.path.join(current_path,ssd512)\n",
    "yolo3 =  '../../dataset/AICity_data/train/S03/c010/det/det_yolo3.txt'\n",
    "yolo3 = os.path.join(current_path,yolo3)"
   ]
  },
  {
   "cell_type": "code",
   "execution_count": 5,
   "metadata": {},
   "outputs": [],
   "source": [
    "video = '../../dataset/AICity_data/train/S03/c010/vdo.avi'\n",
    "video = os.path.join(current_path,video)\n",
    "video_capture = cv2.VideoCapture(video)\n"
   ]
  },
  {
   "cell_type": "code",
   "execution_count": 6,
   "metadata": {},
   "outputs": [],
   "source": [
    "mask_rcnn_boxes = load_from_txt(mask_rcnn,threshold=0.5)"
   ]
  },
  {
   "cell_type": "code",
   "execution_count": 7,
   "metadata": {},
   "outputs": [],
   "source": [
    "def track_memory(tracked_objects):\n",
    "    delete = []\n",
    "    for idx in tracked_objects:\n",
    "        if tracked_objects[idx]['memory'] != tracked_objects[idx]['frame']:\n",
    "            if tracked_objects[idx]['memory'] <= 5:\n",
    "                delete.append(idx)\n",
    " \n",
    "\n",
    "    for idx in delete:\n",
    "        del tracked_objects[idx]"
   ]
  },
  {
   "cell_type": "code",
   "execution_count": 8,
   "metadata": {},
   "outputs": [],
   "source": [
    "track_id = 0\n",
    "tracked_objects = {}\n",
    "memory = 5\n",
    "for frame_id in mask_rcnn_boxes:\n",
    "    # REMOVE OVERLAPPING BOUNDING BOXES\n",
    "    boxes = mask_rcnn_boxes[frame_id]\n",
    "    frame_boxes = discard_overlaps(boxes)\n",
    "    # FIRST FRAME, WE INITIALIZE THE OBJECTS ID\n",
    "    if frame_id == 0:\n",
    "        for j in range(len(frame_boxes)):\n",
    "            # We add the tracking object ID at the end of the list  [[frame,x1, y1, x2, y2, conf, track_id]]\n",
    "            frame_boxes[j].append(track_id)\n",
    "            tracked_objects[f'{track_id}'] = {'bbox':[frame_boxes[j][1],frame_boxes[j][2],frame_boxes[j][3],frame_boxes[j][4]],'frame':frame_id,'memory':0, 'iou':0}\n",
    "            track_id += 1\n",
    "            \n",
    "    else:\n",
    "        if frame_id == 150:\n",
    "            break\n",
    "        # FRAME N+1 WE COMPARE TO OBJECTS IN FRAME N\n",
    "        for i in range(len(frame_boxes)):\n",
    "            best_iou = 0\n",
    "            track_id_best = 0\n",
    "            boxA = [frame_boxes[i][1],frame_boxes[i][2],frame_boxes[i][3],frame_boxes[i][4]]\n",
    "\n",
    "            for data in previous_tracked_objects.items():\n",
    "                id,boxB = data\n",
    "                iou_score,_ = iou(boxA,boxB['bbox'])\n",
    "\n",
    "                if iou_score > best_iou and iou_score > 0.5:\n",
    "                    best_iou = iou_score\n",
    "                    track_id_best = id\n",
    "\n",
    "            if track_id_best == 0 and best_iou == 0:\n",
    "                frame_boxes[i].append(track_id)\n",
    "                tracked_objects[f'{track_id}']  = {'bbox':boxA,'frame':frame_id,'memory':0,'iou':best_iou}\n",
    "                track_id += 1\n",
    "                \n",
    "            else:\n",
    "                if tracked_objects[f'{track_id_best}']['frame'] == frame_id:\n",
    "                    # CHECK IF THERE IS AN OBJECT WITH THE SAME ID IN THAT FRAME AND CHOOSE THE ONE WITH HIGHEST IOU\n",
    "                    if best_iou > tracked_objects[f'{track_id_best}']['iou']:\n",
    "                        tracked_objects[f'{track_id}'] = {'bbox':tracked_objects[f'{track_id_best}']['bbox'],'frame':frame_id,'memory':0,'iou':best_iou}\n",
    "                        wrong_id =  [i for i,det in enumerate(frame_boxes) if det[-1] == track_id_best][0]\n",
    "                        frame_boxes[wrong_id][-1] = track_id\n",
    "                        track_id += 1\n",
    "\n",
    "                        frame_boxes[i].append(track_id_best)\n",
    "                        tracked_objects[f'{track_id_best}']['bbox']= boxA\n",
    "                        previous_f = tracked_objects[f'{track_id_best}']['frame']\n",
    "\n",
    "                        # CHECK IF OBJECTS APPEAR CONSECUTIVE\n",
    "                        if frame_id - previous_f == 1:\n",
    "                            tracked_objects[f'{track_id_best}']['memory'] = tracked_objects[f'{track_id_best}']['memory'] + 1\n",
    "                        tracked_objects[f'{track_id_best}']['frame'] = frame_id\n",
    "                        tracked_objects[f'{track_id_best}']['iou'] = best_iou\n",
    "\n",
    "                    else:\n",
    "                        frame_boxes[i].append(track_id)\n",
    "                        tracked_objects[f'{track_id}']  = {'bbox':boxA,'frame':frame_id,'memory':0,'iou':best_iou}\n",
    "                        track_id += 1\n",
    "\n",
    "                else:\n",
    "                    frame_boxes[i].append(track_id_best)\n",
    "                    tracked_objects[f'{track_id_best}']['bbox']= boxA\n",
    "                    previous_f = tracked_objects[f'{track_id_best}']['frame']\n",
    "\n",
    "                    # CHECK IF OBJECTS APPEAR CONSECUTIVE\n",
    "                    if frame_id - previous_f == 1:\n",
    "                        tracked_objects[f'{track_id_best}']['memory'] = tracked_objects[f'{track_id_best}']['memory'] + 1\n",
    "                    tracked_objects[f'{track_id_best}']['frame'] = frame_id\n",
    "                    tracked_objects[f'{track_id_best}']['iou'] = best_iou\n",
    "\n",
    "\n",
    "    if frame_id == memory:\n",
    "        track_memory(tracked_objects)\n",
    "        memory = memory + frame_id \n",
    "\n",
    "    previous_tracked_objects = copy.deepcopy(tracked_objects)\n",
    "    \n",
    "            "
   ]
  },
  {
   "cell_type": "code",
   "execution_count": 9,
   "metadata": {},
   "outputs": [],
   "source": [
    "frames = []\n",
    "N = 150\n",
    "path_results = './Results/task2_1'\n",
    "path_results = os.path.join(current_path,path_results)\n",
    "if not os.path.exists(path_results):\n",
    "    os.makedirs(path_results)\n",
    "for i in range(0,N):\n",
    "    frame_visualization(video_capture,mask_rcnn_boxes,i,path_results,'mask_rcnn')\n"
   ]
  },
  {
   "cell_type": "code",
   "execution_count": null,
   "metadata": {
    "pycharm": {
     "is_executing": true
    }
   },
   "outputs": [],
   "source": [
    "previous_tracked_objects"
   ]
  },
  {
   "cell_type": "code",
   "execution_count": null,
   "metadata": {
    "collapsed": false
   },
   "outputs": [],
   "source": []
  },
  {
   "cell_type": "code",
   "execution_count": null,
   "metadata": {
    "collapsed": false
   },
   "outputs": [],
   "source": [
    "output = write_to_csv_file(\"task_2_1\", mask_rcnn_boxes)"
   ]
  },
  {
   "cell_type": "code",
   "execution_count": 1,
   "metadata": {
    "collapsed": false
   },
   "outputs": [
    {
     "ename": "SyntaxError",
     "evalue": "incomplete input (3318536538.py, line 2)",
     "output_type": "error",
     "traceback": [
      "\u001B[0;36m  Cell \u001B[0;32mIn[1], line 2\u001B[0;36m\u001B[0m\n\u001B[0;31m    for object_data in object_list:\u001B[0m\n\u001B[0m                                   ^\u001B[0m\n\u001B[0;31mSyntaxError\u001B[0m\u001B[0;31m:\u001B[0m incomplete input\n"
     ]
    }
   ],
   "source": [
    "import pandas as pd\n",
    "\n",
    "df_list = []\n",
    "for frame_number, object_list in data.items():\n",
    "    for object_data in object_list:\n",
    "        frame = object_data[0]\n",
    "        left = object_data[1]\n",
    "        top = object_data[2]\n",
    "        width = object_data[3] - object_data[1]\n",
    "        height = object_data[4] - object_data[2]\n",
    "        conf = object_data[5]\n",
    "        if len(object_data) < 7:\n",
    "            ob_id = -1\n",
    "        else:\n",
    "            ob_id = object_data[6]\n",
    "        df_list.append(pd.DataFrame([frame, ob_id, left, top, width, height, conf, -1, -1, -1], index=[0]))\n",
    "df = pd.concat(df_list, ignore_index=True)\n",
    "df.to_csv(\"task_2_1.csv\", header=[\"frame\", \"id\", \"left\", \"top\", \"width\", \"height\", \"confidence\", \"x\", \"y\", \"z\"], index=False)"
   ]
  },
  {
   "cell_type": "code",
   "execution_count": null,
   "outputs": [],
   "source": [],
   "metadata": {
    "collapsed": false
   }
  }
 ],
 "metadata": {
  "kernelspec": {
   "display_name": "base",
   "language": "python",
   "name": "python3"
  },
  "language_info": {
   "codemirror_mode": {
    "name": "ipython",
    "version": 3
   },
   "file_extension": ".py",
   "mimetype": "text/x-python",
   "name": "python",
   "nbconvert_exporter": "python",
   "pygments_lexer": "ipython3",
   "version": "3.11.0"
  },
  "orig_nbformat": 4
 },
 "nbformat": 4,
 "nbformat_minor": 2
}
