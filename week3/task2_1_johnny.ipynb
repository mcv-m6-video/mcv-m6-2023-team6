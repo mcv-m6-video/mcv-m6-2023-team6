{
 "cells": [
  {
   "cell_type": "code",
   "execution_count": 2,
   "metadata": {},
   "outputs": [],
   "source": [
    "from utils.util import load_from_txt,discard_overlaps,iou, write_to_csv_file\n",
    "import cv2\n",
    "from collections import defaultdict\n",
    "import numpy as np\n",
    "import imageio\n",
    "import copy\n",
    "import os"
   ]
  },
  {
   "cell_type": "code",
   "execution_count": 3,
   "metadata": {},
   "outputs": [],
   "source": [
    "def frame_visualization(video_capture,predicted_boxes,frame_id,out_path,method):\n",
    "    video_capture.set(cv2.CAP_PROP_POS_FRAMES, frame_id - 1)\n",
    "    res, frame = video_capture.read()\n",
    "    # Draw the ground truth boxes\n",
    "    # Draw the predicted boxes\n",
    "    for box in predicted_boxes[frame_id]:\n",
    "        cv2.rectangle(frame, (int(box[1]), int(box[2])), (int(box[3]), int(box[4])), (0, 0, 255), 2)\n",
    "        cv2.putText(frame, f'id:{box[6]}',(int(box[1]), int(box[2])), cv2.FONT_HERSHEY_SIMPLEX, 0.8, (0, 0, 255),2)\n",
    "    # put text mIOU of frame\n",
    "    # put text number of frame\n",
    "    cv2.putText(frame, f\"Frame: {frame_id}\", (10, 60), cv2.FONT_HERSHEY_SIMPLEX, 1, (255, 255, 255), 2, cv2.LINE_AA)\n",
    "\n",
    "    cv2.imwrite(f'{out_path}/{method}_{frame_id}.png', frame)\n"
   ]
  },
  {
   "cell_type": "code",
   "execution_count": 4,
   "metadata": {
    "collapsed": false
   },
   "outputs": [],
   "source": [
    "current_path = os.getcwd()\n"
   ]
  },
  {
   "cell_type": "code",
   "execution_count": 5,
   "metadata": {},
   "outputs": [],
   "source": [
    "mask_rcnn = '../../dataset/AICity_data/train/S03/c010/det/det_mask_rcnn.txt'\n",
    "mask_rcnn = os.path.join(current_path,mask_rcnn)\n",
    "ssd512 =  '../../dataset/AICity_data/train/S03/c010/det/det_ssd512.txt'\n",
    "ssd512 = os.path.join(current_path,ssd512)\n",
    "yolo3 =  '../../dataset/AICity_data/train/S03/c010/det/det_yolo3.txt'\n",
    "yolo3 = os.path.join(current_path,yolo3)"
   ]
  },
  {
   "cell_type": "code",
   "execution_count": 6,
   "metadata": {},
   "outputs": [],
   "source": [
    "video = '../../dataset/AICity_data/train/S03/c010/vdo.avi'\n",
    "video = os.path.join(current_path,video)\n",
    "video_capture = cv2.VideoCapture(video)\n"
   ]
  },
  {
   "cell_type": "code",
   "execution_count": 7,
   "metadata": {},
   "outputs": [],
   "source": [
    "mask_rcnn_boxes = load_from_txt(mask_rcnn,threshold=0.5)"
   ]
  },
  {
   "cell_type": "code",
   "execution_count": 8,
   "metadata": {},
   "outputs": [],
   "source": [
    "def track_memory(tracked_objects):\n",
    "    delete = []\n",
    "    for idx in tracked_objects:\n",
    "        if tracked_objects[idx]['memory'] != tracked_objects[idx]['frame']:\n",
    "            if tracked_objects[idx]['memory'] <= 5:\n",
    "                delete.append(idx)\n",
    " \n",
    "\n",
    "    for idx in delete:\n",
    "        del tracked_objects[idx]"
   ]
  },
  {
   "cell_type": "code",
   "execution_count": 9,
   "metadata": {},
   "outputs": [],
   "source": [
    "track_id = 0\n",
    "tracked_objects = {}\n",
    "memory = 5\n",
    "for frame_id in mask_rcnn_boxes:\n",
    "    # REMOVE OVERLAPPING BOUNDING BOXES\n",
    "    boxes = mask_rcnn_boxes[frame_id]\n",
    "    frame_boxes = discard_overlaps(boxes)\n",
    "    # FIRST FRAME, WE INITIALIZE THE OBJECTS ID\n",
    "    if frame_id == 0:\n",
    "        for j in range(len(frame_boxes)):\n",
    "            # We add the tracking object ID at the end of the list  [[frame,x1, y1, x2, y2, conf, track_id]]\n",
    "            frame_boxes[j].append(track_id)\n",
    "            tracked_objects[f'{track_id}'] = {'bbox':[frame_boxes[j][1],frame_boxes[j][2],frame_boxes[j][3],frame_boxes[j][4]],'frame':frame_id,'memory':0, 'iou':0}\n",
    "            track_id += 1\n",
    "            \n",
    "    else:\n",
    "        if frame_id == 150:\n",
    "            break\n",
    "        # FRAME N+1 WE COMPARE TO OBJECTS IN FRAME N\n",
    "        for i in range(len(frame_boxes)):\n",
    "            best_iou = 0\n",
    "            track_id_best = 0\n",
    "            boxA = [frame_boxes[i][1],frame_boxes[i][2],frame_boxes[i][3],frame_boxes[i][4]]\n",
    "\n",
    "            for data in previous_tracked_objects.items():\n",
    "                id,boxB = data\n",
    "                iou_score,_ = iou(boxA,boxB['bbox'])\n",
    "\n",
    "                if iou_score > best_iou and iou_score > 0.5:\n",
    "                    best_iou = iou_score\n",
    "                    track_id_best = id\n",
    "\n",
    "            if track_id_best == 0 and best_iou == 0:\n",
    "                frame_boxes[i].append(track_id)\n",
    "                tracked_objects[f'{track_id}']  = {'bbox':boxA,'frame':frame_id,'memory':0,'iou':best_iou}\n",
    "                track_id += 1\n",
    "                \n",
    "            else:\n",
    "                if tracked_objects[f'{track_id_best}']['frame'] == frame_id:\n",
    "                    # CHECK IF THERE IS AN OBJECT WITH THE SAME ID IN THAT FRAME AND CHOOSE THE ONE WITH HIGHEST IOU\n",
    "                    if best_iou > tracked_objects[f'{track_id_best}']['iou']:\n",
    "                        tracked_objects[f'{track_id}'] = {'bbox':tracked_objects[f'{track_id_best}']['bbox'],'frame':frame_id,'memory':0,'iou':best_iou}\n",
    "                        wrong_id =  [i for i,det in enumerate(frame_boxes) if det[-1] == track_id_best][0]\n",
    "                        frame_boxes[wrong_id][-1] = track_id\n",
    "                        track_id += 1\n",
    "\n",
    "                        frame_boxes[i].append(track_id_best)\n",
    "                        tracked_objects[f'{track_id_best}']['bbox']= boxA\n",
    "                        previous_f = tracked_objects[f'{track_id_best}']['frame']\n",
    "\n",
    "                        # CHECK IF OBJECTS APPEAR CONSECUTIVE\n",
    "                        if frame_id - previous_f == 1:\n",
    "                            tracked_objects[f'{track_id_best}']['memory'] = tracked_objects[f'{track_id_best}']['memory'] + 1\n",
    "                        tracked_objects[f'{track_id_best}']['frame'] = frame_id\n",
    "                        tracked_objects[f'{track_id_best}']['iou'] = best_iou\n",
    "\n",
    "                    else:\n",
    "                        frame_boxes[i].append(track_id)\n",
    "                        tracked_objects[f'{track_id}']  = {'bbox':boxA,'frame':frame_id,'memory':0,'iou':best_iou}\n",
    "                        track_id += 1\n",
    "\n",
    "                else:\n",
    "                    frame_boxes[i].append(track_id_best)\n",
    "                    tracked_objects[f'{track_id_best}']['bbox']= boxA\n",
    "                    previous_f = tracked_objects[f'{track_id_best}']['frame']\n",
    "\n",
    "                    # CHECK IF OBJECTS APPEAR CONSECUTIVE\n",
    "                    if frame_id - previous_f == 1:\n",
    "                        tracked_objects[f'{track_id_best}']['memory'] = tracked_objects[f'{track_id_best}']['memory'] + 1\n",
    "                    tracked_objects[f'{track_id_best}']['frame'] = frame_id\n",
    "                    tracked_objects[f'{track_id_best}']['iou'] = best_iou\n",
    "\n",
    "\n",
    "    if frame_id == memory:\n",
    "        track_memory(tracked_objects)\n",
    "        memory = memory + frame_id \n",
    "\n",
    "    previous_tracked_objects = copy.deepcopy(tracked_objects)\n",
    "    \n",
    "            "
   ]
  },
  {
   "cell_type": "code",
   "execution_count": 10,
   "metadata": {},
   "outputs": [],
   "source": [
    "frames = []\n",
    "N = 150\n",
    "path_results = './Results/task2_1'\n",
    "path_results = os.path.join(current_path,path_results)\n",
    "if not os.path.exists(path_results):\n",
    "    os.makedirs(path_results)\n",
    "for i in range(0,N):\n",
    "    frame_visualization(video_capture,mask_rcnn_boxes,i,path_results,'mask_rcnn')\n"
   ]
  },
  {
   "cell_type": "code",
   "execution_count": 11,
   "metadata": {},
   "outputs": [
    {
     "data": {
      "text/plain": "{'0': {'bbox': [905.893, 99.705, 937.116, 139.888],\n  'frame': 118,\n  'memory': 97,\n  'iou': 0.8458045736977655},\n '1': {'bbox': [1178.876, 103.16, 1227.881, 151.724],\n  'frame': 149,\n  'memory': 149,\n  'iou': 0.9918160104862183},\n '2': {'bbox': [931.615, 75.031, 1013.977, 145.199],\n  'frame': 149,\n  'memory': 146,\n  'iou': 0.9883863785753234},\n '3': {'bbox': [1288.188, 359.53, 1513.4950000000001, 538.395],\n  'frame': 149,\n  'memory': 149,\n  'iou': 0.9648309225494579},\n '11': {'bbox': [890.169, 95.169, 931.72, 139.651],\n  'frame': 141,\n  'memory': 42,\n  'iou': 0.9096869613798524},\n '12': {'bbox': [912.859, 91.433, 942.9830000000001, 141.38600000000002],\n  'frame': 149,\n  'memory': 27,\n  'iou': 0.9911631690379992},\n '14': {'bbox': [1001.026, 71.461, 1028.927, 93.46],\n  'frame': 144,\n  'memory': 0,\n  'iou': 0.6296843798035946},\n '15': {'bbox': [990.454, 67.531, 1030.5, 94.504],\n  'frame': 143,\n  'memory': 3,\n  'iou': 0.8221868707273635},\n '16': {'bbox': [792.81, 55.546, 858.536, 85.068],\n  'frame': 135,\n  'memory': 9,\n  'iou': 0.7574277203282087},\n '17': {'bbox': [956.292, 67.868, 977.9290000000001, 79.80799999999999],\n  'frame': 95,\n  'memory': 0,\n  'iou': 0},\n '18': {'bbox': [897.833, 62.746, 948.928, 90.32300000000001],\n  'frame': 139,\n  'memory': 5,\n  'iou': 0.6951670871873197},\n '19': {'bbox': [815.615, 56.28, 897.412, 89.273],\n  'frame': 136,\n  'memory': 2,\n  'iou': 0.7895284555545034},\n '20': {'bbox': [840.888, 60.071, 924.0440000000001, 93.95400000000001],\n  'frame': 137,\n  'memory': 0,\n  'iou': 0.638294601348187},\n '21': {'bbox': [769.745, 53.865, 856.502, 87.242],\n  'frame': 134,\n  'memory': 7,\n  'iou': 0.6706686999844883},\n '22': {'bbox': [756.909, 45.095, 808.2909999999999, 77.952],\n  'frame': 108,\n  'memory': 3,\n  'iou': 0.5691612504207679},\n '23': {'bbox': [925.909, 65.562, 972.812, 90.145],\n  'frame': 141,\n  'memory': 2,\n  'iou': 0.640983755827035},\n '24': {'bbox': [677.14, 44.188, 750.52, 80.60300000000001],\n  'frame': 111,\n  'memory': 2,\n  'iou': 0.7265703700596302},\n '25': {'bbox': [640.107, 39.394, 716.0849999999999, 77.364],\n  'frame': 113,\n  'memory': 2,\n  'iou': 0.7043464609839624},\n '26': {'bbox': [851.073, 66.529, 883.63, 89.929],\n  'frame': 115,\n  'memory': 0,\n  'iou': 0},\n '27': {'bbox': [948.226, 65.628, 1030.727, 100.354],\n  'frame': 119,\n  'memory': 0,\n  'iou': 0},\n '28': {'bbox': [634.862, 55.469, 697.819, 82.52],\n  'frame': 127,\n  'memory': 0,\n  'iou': 0},\n '29': {'bbox': [883.146, 92.726, 937.256, 140.786],\n  'frame': 149,\n  'memory': 11,\n  'iou': 0.9940734668893593},\n '30': {'bbox': [635.523, 50.257, 672.499, 78.292],\n  'frame': 128,\n  'memory': 0,\n  'iou': 0},\n '31': {'bbox': [658.752, 52.21, 745.2149999999999, 84.77000000000001],\n  'frame': 129,\n  'memory': 1,\n  'iou': 0.6619256515511813},\n '32': {'bbox': [746.069, 52.917, 836.265, 86.479],\n  'frame': 133,\n  'memory': 3,\n  'iou': 0.6116798439393643},\n '33': {'bbox': [815.471, 62.209, 871.247, 86.58],\n  'frame': 135,\n  'memory': 0,\n  'iou': 0},\n '34': {'bbox': [927.038, 78.471, 1011.7280000000001, 145.858],\n  'frame': 148,\n  'memory': 3,\n  'iou': 0.9365279932471552},\n '35': {'bbox': [1014.006, 77.585, 1030.302, 93.96],\n  'frame': 145,\n  'memory': 0,\n  'iou': 0}}"
     },
     "execution_count": 11,
     "metadata": {},
     "output_type": "execute_result"
    }
   ],
   "source": [
    "previous_tracked_objects"
   ]
  },
  {
   "cell_type": "code",
   "execution_count": 11,
   "metadata": {
    "collapsed": false
   },
   "outputs": [],
   "source": []
  },
  {
   "cell_type": "code",
   "execution_count": 12,
   "metadata": {
    "collapsed": false
   },
   "outputs": [],
   "source": [
    "# output = write_to_csv_file(\"task_2_1\", mask_rcnn_boxes)"
   ]
  },
  {
   "cell_type": "code",
   "execution_count": 15,
   "metadata": {
    "collapsed": false
   },
   "outputs": [],
   "source": [
    "import pandas as pd\n",
    "\n",
    "df_list = []\n",
    "for frame_number, object_list in mask_rcnn_boxes.items():\n",
    "    for object_data in object_list:\n",
    "        frame = object_data[0]\n",
    "        bb_left = object_data[1]\n",
    "        bb_top = object_data[2]\n",
    "        width = object_data[3] - object_data[1]\n",
    "        height = object_data[4] - object_data[2]\n",
    "        conf = object_data[5]\n",
    "        if len(object_data) < 7:\n",
    "            ob_id = -1\n",
    "        else:\n",
    "            ob_id = object_data[6]\n",
    "        df_list.append(pd.DataFrame({'frame': int(frame), 'id': ob_id, 'bb_left': bb_left, 'bb_top': bb_top,\n",
    "                                         'bb_width': width, 'bb_height': height, 'conf': 0.5, \"x\": -1, \"y\": -1,\n",
    "                                         \"z\": -1}, index=[0]))\n",
    "df = pd.concat(df_list, ignore_index=True)\n",
    "df.to_csv(\"task_2_1.csv\", header=[\"frame\", \"id\", \"left\", \"top\", \"width\", \"height\", \"confidence\", \"x\", \"y\", \"z\"], index=False)"
   ]
  },
  {
   "cell_type": "code",
   "execution_count": null,
   "outputs": [],
   "source": [],
   "metadata": {
    "collapsed": false
   }
  }
 ],
 "metadata": {
  "kernelspec": {
   "display_name": "base",
   "language": "python",
   "name": "python3"
  },
  "language_info": {
   "codemirror_mode": {
    "name": "ipython",
    "version": 3
   },
   "file_extension": ".py",
   "mimetype": "text/x-python",
   "name": "python",
   "nbconvert_exporter": "python",
   "pygments_lexer": "ipython3",
   "version": "3.11.0"
  },
  "orig_nbformat": 4
 },
 "nbformat": 4,
 "nbformat_minor": 2
}
