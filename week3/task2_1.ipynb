{
 "cells": [
  {
   "cell_type": "code",
   "execution_count": 1,
   "metadata": {},
   "outputs": [],
   "source": [
    "from utils.util import load_from_txt,discard_overlaps,iou\n",
    "import cv2\n",
    "from collections import defaultdict"
   ]
  },
  {
   "cell_type": "code",
   "execution_count": 2,
   "metadata": {},
   "outputs": [],
   "source": [
    "def frame_visualization(video_capture,predicted_boxes,frame_id,out_path,method):\n",
    "    video_capture.set(cv2.CAP_PROP_POS_FRAMES, frame_id - 1)\n",
    "    res, frame = video_capture.read()\n",
    "    # Draw the ground truth boxes\n",
    "    # Draw the predicted boxes\n",
    "    for box in predicted_boxes[frame_id]:\n",
    "        cv2.rectangle(frame, (int(box[1]), int(box[2])), (int(box[3]), int(box[4])), (0, 0, 255), 2)\n",
    "        cv2.putText(frame, f'id:{box[6]}',(int(box[1]), int(box[2])), cv2.FONT_HERSHEY_SIMPLEX, 0.8, (0, 0, 255),2)\n",
    "    # put text mIOU of frame\n",
    "    # put text number of frame\n",
    "    cv2.putText(frame, f\"Frame: {frame_id}\", (10, 60), cv2.FONT_HERSHEY_SIMPLEX, 1, (255, 255, 255), 2, cv2.LINE_AA)\n",
    "\n",
    "    cv2.imwrite(f'{out_path}/{method}_{frame_id}.png', frame)\n",
    "\n",
    "    ret, frame = video_capture.read()"
   ]
  },
  {
   "cell_type": "code",
   "execution_count": 3,
   "metadata": {},
   "outputs": [],
   "source": [
    "mask_rcnn = 'C:/Users/AnaHarris/Documents/MASTER/M6/project/dataset/AICity_data/train/S03/c010/det/det_mask_rcnn.txt'\n",
    "ssd512 =  'C:/Users/AnaHarris/Documents/MASTER/M6/project/dataset/AICity_data/train/S03/c010/det/det_ssd512.txt'\n",
    "yolo3 =  'C:/Users/AnaHarris/Documents/MASTER/M6/project/dataset/AICity_data/train/S03/c010/det/det_yolo3.txt'"
   ]
  },
  {
   "cell_type": "code",
   "execution_count": 4,
   "metadata": {},
   "outputs": [],
   "source": [
    "video_capture = cv2.VideoCapture('C:/Users/AnaHarris/Documents/MASTER/M6/project/dataset/AICity_data/train/S03/c010/vdo.avi')"
   ]
  },
  {
   "cell_type": "code",
   "execution_count": 5,
   "metadata": {},
   "outputs": [],
   "source": [
    "mask_rcnn_boxes = load_from_txt(mask_rcnn,threshold=0.5)"
   ]
  },
  {
   "cell_type": "code",
   "execution_count": 6,
   "metadata": {},
   "outputs": [
    {
     "ename": "IndexError",
     "evalue": "list index out of range",
     "output_type": "error",
     "traceback": [
      "\u001b[1;31m---------------------------------------------------------------------------\u001b[0m",
      "\u001b[1;31mIndexError\u001b[0m                                Traceback (most recent call last)",
      "\u001b[1;32mc:\\Users\\AnaHarris\\Documents\\GitHub\\mcv-m6-2023-team6\\week3\\task_2_1.ipynb Cell 6\u001b[0m in \u001b[0;36m<cell line: 3>\u001b[1;34m()\u001b[0m\n\u001b[0;32m     <a href='vscode-notebook-cell:/c%3A/Users/AnaHarris/Documents/GitHub/mcv-m6-2023-team6/week3/task_2_1.ipynb#X42sZmlsZQ%3D%3D?line=23'>24</a>\u001b[0m     \u001b[39mif\u001b[39;00m iou_score \u001b[39m>\u001b[39m best_iou:\n\u001b[0;32m     <a href='vscode-notebook-cell:/c%3A/Users/AnaHarris/Documents/GitHub/mcv-m6-2023-team6/week3/task_2_1.ipynb#X42sZmlsZQ%3D%3D?line=24'>25</a>\u001b[0m         best_iou \u001b[39m=\u001b[39m iou_score\n\u001b[1;32m---> <a href='vscode-notebook-cell:/c%3A/Users/AnaHarris/Documents/GitHub/mcv-m6-2023-team6/week3/task_2_1.ipynb#X42sZmlsZQ%3D%3D?line=25'>26</a>\u001b[0m         track_id_best \u001b[39m=\u001b[39m boxes_previous_frame[j][\u001b[39m6\u001b[39;49m]\n\u001b[0;32m     <a href='vscode-notebook-cell:/c%3A/Users/AnaHarris/Documents/GitHub/mcv-m6-2023-team6/week3/task_2_1.ipynb#X42sZmlsZQ%3D%3D?line=27'>28</a>\u001b[0m \u001b[39mif\u001b[39;00m track_id_best \u001b[39m==\u001b[39m \u001b[39m0\u001b[39m \u001b[39mand\u001b[39;00m best_iou \u001b[39m==\u001b[39m \u001b[39m0\u001b[39m:\n\u001b[0;32m     <a href='vscode-notebook-cell:/c%3A/Users/AnaHarris/Documents/GitHub/mcv-m6-2023-team6/week3/task_2_1.ipynb#X42sZmlsZQ%3D%3D?line=28'>29</a>\u001b[0m     tracked_objects[\u001b[39mf\u001b[39m\u001b[39m'\u001b[39m\u001b[39mt_id_\u001b[39m\u001b[39m{\u001b[39;00mtrack_id\u001b[39m}\u001b[39;00m\u001b[39m'\u001b[39m]\u001b[39m.\u001b[39mappend(boxA)\n",
      "\u001b[1;31mIndexError\u001b[0m: list index out of range"
     ]
    }
   ],
   "source": [
    "track_id = 0\n",
    "tracked_objects = defaultdict(list)\n",
    "for frame_id in mask_rcnn_boxes:\n",
    "    # REMOVE OVERLAPPING BOUNDING BOXES\n",
    "    boxes = mask_rcnn_boxes[frame_id]\n",
    "    frame_boxes = discard_overlaps(boxes)\n",
    "    if frame_id == 0:\n",
    "        for j in range(len(frame_boxes)):\n",
    "            # We add the tracking object ID at the end of the list  [[frame,x1, y1, x2, y2, conf, track_id]]\n",
    "            frame_boxes[j].append(track_id)\n",
    "            tracked_objects[f't_id_{track_id}'].append([frame_boxes[j][1],frame_boxes[j][2],frame_boxes[j][3],frame_boxes[j][4]])\n",
    "            track_id += 1\n",
    "            \n",
    "    else:\n",
    "        for i in range(len(frame_boxes)):\n",
    "            best_iou = 0\n",
    "            track_id_best = 0\n",
    "            boxA = [frame_boxes[i][1],frame_boxes[i][2],frame_boxes[i][3],frame_boxes[i][4]]\n",
    "\n",
    "            for j in range(len(boxes_previous_frame)):\n",
    "                boxB = [boxes_previous_frame[j][1],boxes_previous_frame[j][2],boxes_previous_frame[j][3],boxes_previous_frame[j][4]]\n",
    "                iou_score,_ = iou(boxA,boxB)\n",
    "\n",
    "                if iou_score > best_iou:\n",
    "                    best_iou = iou_score\n",
    "                    track_id_best = boxes_previous_frame[j][6]\n",
    "\n",
    "            if track_id_best == 0 and best_iou == 0:\n",
    "                tracked_objects[f't_id_{track_id}'].append(boxA)\n",
    "                frame_boxes[i].append(track_id)\n",
    "                track_id += 1\n",
    "            else:\n",
    "                \n",
    "                tracked_objects[f't_id_{track_id_best}'].append(boxA)\n",
    "                frame_boxes[i].append(track_id_best)\n",
    "\n",
    "    boxes_previous_frame = frame_boxes\n"
   ]
  },
  {
   "cell_type": "code",
   "execution_count": 7,
   "metadata": {},
   "outputs": [],
   "source": [
    "for i in range(0,len(mask_rcnn_boxes),10):\n",
    "    frame_visualization(video_capture,mask_rcnn_boxes,i,'C:/Users/AnaHarris/Documents/GitHub/mcv-m6-2023-team6/week3/Results/task2_1','mask_rcnn')"
   ]
  },
  {
   "cell_type": "code",
   "execution_count": 7,
   "metadata": {},
   "outputs": [
    {
     "data": {
      "text/plain": [
       "[[1, 882.13, 92.709, 937.994, 140.225, 0.903],\n",
       " [1, 1179.806, 101.222, 1228.435, 155.553, 0.937],\n",
       " [1, 928.019, 79.331, 1010.465, 145.861, 0.663],\n",
       " [1, 1288.148, 359.709, 1513.956, 536.287, 0.997]]"
      ]
     },
     "execution_count": 7,
     "metadata": {},
     "output_type": "execute_result"
    }
   ],
   "source": [
    "boxes_previous_frame"
   ]
  },
  {
   "cell_type": "code",
   "execution_count": 12,
   "metadata": {},
   "outputs": [],
   "source": [
    "boxes = discard_overlaps(mask_rcnn_boxes[10],threshold=0.99)"
   ]
  },
  {
   "cell_type": "code",
   "execution_count": 13,
   "metadata": {},
   "outputs": [
    {
     "data": {
      "text/plain": [
       "[[10, 886.196, 93.408, 938.181, 140.498, 0.906, 0],\n",
       " [10, 875.415, 99.519, 921.235, 140.46, 0.584, 0],\n",
       " [10, 911.201, 93.368, 943.557, 139.28199999999998, 0.527, 0],\n",
       " [10, 1179.659, 102.195, 1228.842, 154.25099999999998, 0.887, 1],\n",
       " [10, 927.92, 78.09, 1010.631, 143.42000000000002, 0.753, 2],\n",
       " [10, 1289.878, 361.438, 1514.193, 538.655, 0.998, 3]]"
      ]
     },
     "execution_count": 13,
     "metadata": {},
     "output_type": "execute_result"
    }
   ],
   "source": [
    "boxes"
   ]
  },
  {
   "cell_type": "code",
   "execution_count": null,
   "metadata": {},
   "outputs": [],
   "source": []
  }
 ],
 "metadata": {
  "kernelspec": {
   "display_name": "base",
   "language": "python",
   "name": "python3"
  },
  "language_info": {
   "codemirror_mode": {
    "name": "ipython",
    "version": 3
   },
   "file_extension": ".py",
   "mimetype": "text/x-python",
   "name": "python",
   "nbconvert_exporter": "python",
   "pygments_lexer": "ipython3",
   "version": "3.9.12"
  },
  "orig_nbformat": 4
 },
 "nbformat": 4,
 "nbformat_minor": 2
}
