{
 "cells": [
  {
   "cell_type": "code",
   "execution_count": 1,
   "metadata": {},
   "outputs": [],
   "source": [
    "from utils.util import load_from_txt,discard_overlaps,iou\n",
    "import cv2\n",
    "from collections import defaultdict"
   ]
  },
  {
   "cell_type": "code",
   "execution_count": 2,
   "metadata": {},
   "outputs": [],
   "source": [
    "def frame_visualization(video_capture,predicted_boxes,frame_id,out_path,method):\n",
    "    video_capture.set(cv2.CAP_PROP_POS_FRAMES, frame_id - 1)\n",
    "    res, frame = video_capture.read()\n",
    "    # Draw the ground truth boxes\n",
    "    # Draw the predicted boxes\n",
    "    for box in predicted_boxes[frame_id]:\n",
    "        cv2.rectangle(frame, (int(box[1]), int(box[2])), (int(box[3]), int(box[4])), (0, 0, 255), 2)\n",
    "        cv2.putText(frame, f'id:{box[6]}',(int(box[1]), int(box[2])), cv2.FONT_HERSHEY_SIMPLEX, 0.8, (0, 0, 255),2)\n",
    "    # put text mIOU of frame\n",
    "    # put text number of frame\n",
    "    cv2.putText(frame, f\"Frame: {frame_id}\", (10, 60), cv2.FONT_HERSHEY_SIMPLEX, 1, (255, 255, 255), 2, cv2.LINE_AA)\n",
    "\n",
    "    cv2.imwrite(f'{out_path}/{method}_{frame_id}.png', frame)\n",
    "\n",
    "    ret, frame = video_capture.read()"
   ]
  },
  {
   "cell_type": "code",
   "execution_count": 3,
   "metadata": {},
   "outputs": [],
   "source": [
    "mask_rcnn = 'C:/Users/AnaHarris/Documents/MASTER/M6/project/dataset/AICity_data/train/S03/c010/det/det_mask_rcnn.txt'\n",
    "ssd512 =  'C:/Users/AnaHarris/Documents/MASTER/M6/project/dataset/AICity_data/train/S03/c010/det/det_ssd512.txt'\n",
    "yolo3 =  'C:/Users/AnaHarris/Documents/MASTER/M6/project/dataset/AICity_data/train/S03/c010/det/det_yolo3.txt'"
   ]
  },
  {
   "cell_type": "code",
   "execution_count": 4,
   "metadata": {},
   "outputs": [],
   "source": [
    "video_capture = cv2.VideoCapture('C:/Users/AnaHarris/Documents/MASTER/M6/project/dataset/AICity_data/train/S03/c010/vdo.avi')"
   ]
  },
  {
   "cell_type": "code",
   "execution_count": 5,
   "metadata": {},
   "outputs": [],
   "source": [
    "mask_rcnn_boxes = load_from_txt(mask_rcnn,threshold=0.5)"
   ]
  },
  {
   "cell_type": "code",
   "execution_count": 6,
   "metadata": {},
   "outputs": [],
   "source": [
    "track_id = 0\n",
    "tracked_objects = defaultdict(list)\n",
    "for frame_id in mask_rcnn_boxes:\n",
    "    # REMOVE OVERLAPPING BOUNDING BOXES\n",
    "    boxes = mask_rcnn_boxes[frame_id]\n",
    "    frame_boxes = discard_overlaps(boxes)\n",
    "    # FIRST FRAME, WE INITIALIZE THE OBJECTS ID\n",
    "    if frame_id == 0:\n",
    "        for j in range(len(frame_boxes)):\n",
    "            # We add the tracking object ID at the end of the list  [[frame,x1, y1, x2, y2, conf, track_id]]\n",
    "            frame_boxes[j].append(track_id)\n",
    "            tracked_objects[f't_id_{track_id}'].append([frame_boxes[j][1],frame_boxes[j][2],frame_boxes[j][3],frame_boxes[j][4]])\n",
    "            track_id += 1\n",
    "            \n",
    "    else:\n",
    "        # FRAME N+1 WE COMPARE TO OBJECTS IN FRAME N\n",
    "        for i in range(len(frame_boxes)):\n",
    "            best_iou = 0\n",
    "            track_id_best = 0\n",
    "            boxA = [frame_boxes[i][1],frame_boxes[i][2],frame_boxes[i][3],frame_boxes[i][4]]\n",
    "\n",
    "            for j in range(len(boxes_previous_frame)):\n",
    "                boxB = [boxes_previous_frame[j][1],boxes_previous_frame[j][2],boxes_previous_frame[j][3],boxes_previous_frame[j][4]]\n",
    "                iou_score,_ = iou(boxA,boxB)\n",
    "\n",
    "                if iou_score > best_iou:\n",
    "                    best_iou = iou_score\n",
    "                    track_id_best = boxes_previous_frame[j][6]\n",
    "\n",
    "            if track_id_best == 0 and best_iou == 0:\n",
    "                track_id += 1\n",
    "                frame_boxes[i].append(track_id)\n",
    "                frame_boxes[i].append(best_iou)\n",
    "           \n",
    "            else:\n",
    "                # CHECK IF THERE ARE WRONG TRACKED OBJECTS (we cannot have more than 1 object with the same ID)\n",
    "                if any(track_id_best in sublist for sublist in frame_boxes):\n",
    "                    wrong_tracked = [sublist  for sublist in frame_boxes if track_id_best in sublist][0]\n",
    "                    if best_iou > wrong_tracked[-1]:\n",
    "                        frame_boxes[i].append(track_id_best)\n",
    "                        frame_boxes[i].append(best_iou)\n",
    "\n",
    "                        wrong_tracked[-2] = track_id\n",
    "                        wrong_tracked[-1] = 0\n",
    "                        track_id += 1\n",
    "                    \n",
    "                    else:\n",
    "                        frame_boxes[i].append(track_id)\n",
    "                        frame_boxes[i].append(0)\n",
    "                        track_id += 1\n",
    "                \n",
    "                else:\n",
    "                    frame_boxes[i].append(track_id_best)\n",
    "                    frame_boxes[i].append(best_iou)\n",
    "\n",
    "\n",
    "    \"\"\" tracked_objects[f't_id_{track_id}'].append(boxA)\n",
    "    tracked_objects[f't_id_{track_id_best}'].append(boxA) \"\"\"\n",
    "    boxes_previous_frame = frame_boxes\n"
   ]
  },
  {
   "cell_type": "code",
   "execution_count": 7,
   "metadata": {},
   "outputs": [],
   "source": [
    "for i in range(0,len(mask_rcnn_boxes),10):\n",
    "    frame_visualization(video_capture,mask_rcnn_boxes,i,'C:/Users/AnaHarris/Documents/GitHub/mcv-m6-2023-team6/week3/Results/task2_1','mask_rcnn')"
   ]
  }
 ],
 "metadata": {
  "kernelspec": {
   "display_name": "base",
   "language": "python",
   "name": "python3"
  },
  "language_info": {
   "codemirror_mode": {
    "name": "ipython",
    "version": 3
   },
   "file_extension": ".py",
   "mimetype": "text/x-python",
   "name": "python",
   "nbconvert_exporter": "python",
   "pygments_lexer": "ipython3",
   "version": "3.9.12"
  },
  "orig_nbformat": 4
 },
 "nbformat": 4,
 "nbformat_minor": 2
}
