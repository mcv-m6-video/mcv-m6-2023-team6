{
 "cells": [
  {
   "cell_type": "code",
   "execution_count": 9,
   "metadata": {},
   "outputs": [
    {
     "ename": "ImportError",
     "evalue": "cannot import name 'Sort' from 'sort' (unknown location)",
     "output_type": "error",
     "traceback": [
      "\u001b[0;31m---------------------------------------------------------------------------\u001b[0m",
      "\u001b[0;31mImportError\u001b[0m                               Traceback (most recent call last)",
      "Cell \u001b[0;32mIn[9], line 11\u001b[0m\n\u001b[1;32m      9\u001b[0m \u001b[39mimport\u001b[39;00m \u001b[39mtime\u001b[39;00m\n\u001b[1;32m     10\u001b[0m \u001b[39mimport\u001b[39;00m \u001b[39mcv2\u001b[39;00m\n\u001b[0;32m---> 11\u001b[0m \u001b[39mfrom\u001b[39;00m \u001b[39msort\u001b[39;00m \u001b[39mimport\u001b[39;00m Sort\n\u001b[1;32m     12\u001b[0m \u001b[39mfrom\u001b[39;00m \u001b[39mutils\u001b[39;00m\u001b[39m.\u001b[39;00m\u001b[39mutil\u001b[39;00m \u001b[39mimport\u001b[39;00m load_from_txt\n",
      "\u001b[0;31mImportError\u001b[0m: cannot import name 'Sort' from 'sort' (unknown location)"
     ]
    }
   ],
   "source": [
    "from __future__ import print_function\n",
    "import matplotlib.pyplot as plt  \n",
    "import matplotlib.patches as patches\n",
    "%matplotlib inline\n",
    "from IPython import display as dp\n",
    "import numpy as np\n",
    "from skimage import io\n",
    "import os\n",
    "import time\n",
    "import cv2\n",
    "from sort import *\n",
    "from utils.util import load_from_txt"
   ]
  },
  {
   "cell_type": "code",
   "execution_count": 2,
   "metadata": {},
   "outputs": [],
   "source": [
    "fileDetections = \"/ghome/group03/dataset/AICity_data/train/S03/c010/det/det_mask_rcnn.txt\"\n",
    "\n",
    "colours = np.random.rand(32,3) #used only for display\n",
    "detections = load_from_txt(fileDetections,threshold=0.5) #load detections\n",
    "\n",
    "\n",
    "display = True\n",
    "total_time = 0.0\n",
    "total_frames = 0\n",
    "out = []\n",
    "if display:\n",
    "    plt.ion() # for iterative display\n",
    "    fig, ax = plt.subplots(1, 2,figsize=(20,20))\n",
    "\n",
    "mot_tracker = Sort() #create instance of the SORT tracker\n",
    "\n",
    "for frame in range(int(detections[:,0].max())): # all frames in the sequence\n",
    "    frame += 1 #detection and frame numbers begin at 1\n",
    "    dets = detections[detections[:,0]==frame,2:7]   \n",
    "    \n",
    "    if (display):\n",
    "        fn = '../../../data/2DMOT2015/%s/%s/img1/%06d.jpg'%(phase,seq,frame) # read the frame\n",
    "        im =io.imread(fn)\n",
    "        ax[0].imshow(im)\n",
    "        ax[0].axis('off')\n",
    "        ax[0].set_title('Original Faster R-CNN detections')\n",
    "        for j in range(np.shape(dets)[0]):\n",
    "            color = colours[j]\n",
    "            coords = (dets[j,0],dets[j,1]), dets[j,2], dets[j,3]\n",
    "            ax[0].add_patch(plt.Rectangle(*coords,fill=False,edgecolor=color,lw=3))\n",
    "            \n",
    "    dets[:,2:4] += dets[:,0:2] #convert to [x1,y1,w,h] to [x1,y1,x2,y2] for the tracker input\n",
    "    total_frames += 1\n",
    "\n",
    "    if(display):\n",
    "        ax[1].imshow(im)\n",
    "        ax[1].axis('off')\n",
    "        ax[1].set_title('Tracked Targets')\n",
    "\n",
    "    start_time = time.time()\n",
    "    trackers = mot_tracker.update(dets)\n",
    "    cycle_time = time.time() - start_time\n",
    "    total_time += cycle_time\n",
    "    \n",
    "    out.append(trackers)\n",
    "    for d in trackers:\n",
    "        if(display):\n",
    "            d = d.astype(np.uint32)\n",
    "            ax[1].add_patch(patches.Rectangle((d[0],d[1]),d[2]-d[0],d[3]-d[1],fill=False,lw=3,ec=colours[d[4]%32,:]))\n",
    "            ax[1].set_adjustable('box-forced')\n",
    "\n",
    "    if(display):\n",
    "        dp.clear_output(wait=True)\n",
    "        dp.display(plt.gcf())\n",
    "        time.sleep(0.000001)\n",
    "        ax[0].cla()\n",
    "        ax[1].cla()\n",
    "\n",
    "print(\"Total Tracking took: %.3f for %d frames or %.1f FPS\"%(total_time,total_frames,total_frames/total_time))\n"
   ]
  },
  {
   "cell_type": "code",
   "execution_count": 4,
   "metadata": {},
   "outputs": [],
   "source": [
    "video_capture = cv2.VideoCapture('C:/Users/AnaHarris/Documents/MASTER/M6/project/dataset/AICity_data/train/S03/c010/vdo.avi')"
   ]
  },
  {
   "cell_type": "code",
   "execution_count": 6,
   "metadata": {},
   "outputs": [],
   "source": [
    "def track_memory(tracked_objects):\n",
    "    delete = []\n",
    "    for idx in tracked_objects:\n",
    "        if tracked_objects[idx]['memory'] > 0:\n",
    "            tracked_objects[idx]['memory'] -= 1\n",
    "        else:\n",
    "            delete.append(idx)\n",
    "\n",
    "    for idx in delete:\n",
    "        del tracked_objects[idx]"
   ]
  },
  {
   "cell_type": "code",
   "execution_count": 7,
   "metadata": {},
   "outputs": [],
   "source": [
    "track_id = 0\n",
    "tracked_objects = {}\n",
    "memory = 10\n",
    "for frame_id in mask_rcnn_boxes:\n",
    "    # REMOVE OVERLAPPING BOUNDING BOXES\n",
    "    boxes = mask_rcnn_boxes[frame_id]\n",
    "    frame_boxes = discard_overlaps(boxes)\n",
    "    # FIRST FRAME, WE INITIALIZE THE OBJECTS ID\n",
    "    if frame_id == 0:\n",
    "        for j in range(len(frame_boxes)):\n",
    "            # We add the tracking object ID at the end of the list  [[frame,x1, y1, x2, y2, conf, track_id]]\n",
    "            frame_boxes[j].append(track_id)\n",
    "            tracked_objects[f'{track_id}'] = {'bbox':[frame_boxes[j][1],frame_boxes[j][2],frame_boxes[j][3],frame_boxes[j][4]],'frame':frame_id,'memory':memory}\n",
    "            track_id += 1\n",
    "            \n",
    "    else:\n",
    "        # FRAME N+1 WE COMPARE TO OBJECTS IN FRAME N\n",
    "        for i in range(len(frame_boxes)):\n",
    "            best_iou = 0\n",
    "            track_id_best = 0\n",
    "            boxA = [frame_boxes[i][1],frame_boxes[i][2],frame_boxes[i][3],frame_boxes[i][4]]\n",
    "\n",
    "            for data in tracked_objects.items():\n",
    "                id,boxB = data\n",
    "                iou_score,_ = iou(boxA,boxB['bbox'])\n",
    "\n",
    "                if iou_score > best_iou:\n",
    "                    best_iou = iou_score\n",
    "                    track_id_best = id\n",
    "\n",
    "            if track_id_best == 0 and best_iou == 0:\n",
    "                frame_boxes[i].append(track_id)\n",
    "                tracked_objects[f'{track_id}']  = {'bbox':boxA,'frame':frame_id,'memory':memory}\n",
    "                track_id += 1\n",
    "                \n",
    "            else:\n",
    "                if tracked_objects[f'{track_id_best}']['frame'] == frame_id:\n",
    "                    frame_boxes[i].append(track_id)\n",
    "                    tracked_objects[f'{track_id}']  = {'bbox':boxA,'frame':frame_id,'memory':memory}\n",
    "                    track_id += 1\n",
    "                else:\n",
    "                    frame_boxes[i].append(track_id_best)\n",
    "                    tracked_objects[f'{track_id_best}']['bbox']= boxA\n",
    "                    tracked_objects[f'{track_id_best}']['frame'] = frame_id\n",
    "                    \n",
    "                    \n",
    "    track_memory(tracked_objects)\n",
    "            "
   ]
  },
  {
   "cell_type": "code",
   "execution_count": 8,
   "metadata": {},
   "outputs": [],
   "source": [
    "for i in range(0,100):#len(mask_rcnn_boxes)):\n",
    "    frame_visualization(video_capture,mask_rcnn_boxes,i,'C:/Users/AnaHarris/Documents/GitHub/mcv-m6-2023-team6/week3/Results/task2_1','mask_rcnn')"
   ]
  },
  {
   "cell_type": "code",
   "execution_count": 15,
   "metadata": {},
   "outputs": [
    {
     "data": {
      "text/plain": [
       "[[2140, 933.41, 80.331, 1013.9639999999999, 141.946, 0.622, '422'],\n",
       " [2140, 896.145, 94.306, 939.048, 141.194, 0.794, '424'],\n",
       " [2140, 1175.69, 101.09, 1227.8120000000001, 156.80700000000002, 0.945, '1'],\n",
       " [2140, 916.409, 120.301, 1011.846, 200.375, 0.988, '396'],\n",
       " [2140, 1286.74, 360.295, 1514.592, 537.0350000000001, 0.998, '3']]"
      ]
     },
     "execution_count": 15,
     "metadata": {},
     "output_type": "execute_result"
    }
   ],
   "source": [
    "mask_rcnn_boxes[2140]"
   ]
  },
  {
   "cell_type": "code",
   "execution_count": 14,
   "metadata": {},
   "outputs": [
    {
     "data": {
      "text/plain": [
       "{'1': {'bbox': [1175.69, 101.09, 1227.8120000000001, 156.80700000000002],\n",
       "  'frame': 2140,\n",
       "  'memory': 4},\n",
       " '3': {'bbox': [1286.74, 360.295, 1514.592, 537.0350000000001],\n",
       "  'frame': 2140,\n",
       "  'memory': 4},\n",
       " '396': {'bbox': [916.409, 120.301, 1011.846, 200.375],\n",
       "  'frame': 2140,\n",
       "  'memory': 4},\n",
       " '421': {'bbox': [927.469, 87.802, 1011.8610000000001, 145.203],\n",
       "  'frame': 2139,\n",
       "  'memory': 3},\n",
       " '422': {'bbox': [933.41, 80.331, 1013.9639999999999, 141.946],\n",
       "  'frame': 2140,\n",
       "  'memory': 4},\n",
       " '423': {'bbox': [915.108, 91.516, 944.175, 138.78900000000002],\n",
       "  'frame': 2136,\n",
       "  'memory': 0},\n",
       " '424': {'bbox': [896.145, 94.306, 939.048, 141.194],\n",
       "  'frame': 2140,\n",
       "  'memory': 4}}"
      ]
     },
     "execution_count": 14,
     "metadata": {},
     "output_type": "execute_result"
    }
   ],
   "source": [
    "tracked_objects"
   ]
  },
  {
   "cell_type": "code",
   "execution_count": null,
   "metadata": {},
   "outputs": [],
   "source": []
  }
 ],
 "metadata": {
  "kernelspec": {
   "display_name": "base",
   "language": "python",
   "name": "python3"
  },
  "language_info": {
   "codemirror_mode": {
    "name": "ipython",
    "version": 3
   },
   "file_extension": ".py",
   "mimetype": "text/x-python",
   "name": "python",
   "nbconvert_exporter": "python",
   "pygments_lexer": "ipython3",
   "version": "3.11.0"
  },
  "orig_nbformat": 4
 },
 "nbformat": 4,
 "nbformat_minor": 2
}
